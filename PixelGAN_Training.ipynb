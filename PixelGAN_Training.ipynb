{
 "cells": [
  {
   "cell_type": "code",
   "execution_count": null,
   "metadata": {
    "colab": {
     "base_uri": "https://localhost:8080/"
    },
    "id": "yfmd2ZRrSFy7",
    "outputId": "ac3b6ec4-61b8-49dd-f756-2fb83ed45c25"
   },
   "outputs": [],
   "source": [
    "from google.colab import drive\n",
    "drive.mount('/content/drive')"
   ]
  },
  {
   "cell_type": "code",
   "execution_count": null,
   "metadata": {
    "id": "iStRuTgvSLsj"
   },
   "outputs": [],
   "source": [
    "import sys\n",
    "sys.path.insert(0,'/content/drive/MyDrive/GAN/PixelGAN')"
   ]
  },
  {
   "cell_type": "code",
   "execution_count": null,
   "metadata": {
    "colab": {
     "base_uri": "https://localhost:8080/"
    },
    "id": "gPmDwGc-SNDf",
    "outputId": "5e31c9da-00cd-47c8-a618-491c9a517046"
   },
   "outputs": [],
   "source": [
    "import os\n",
    "os.chdir('/content/drive/MyDrive/GAN/PixelGAN')\n",
    "print(os.getcwd())"
   ]
  },
  {
   "cell_type": "code",
   "execution_count": null,
   "metadata": {
    "id": "EN1V5v6SbO5H"
   },
   "outputs": [],
   "source": [
    "import torch\n",
    "from dataset import PixelSceneryDataset\n",
    "import sys\n",
    "from utils import save_checkpoint, load_checkpoint\n",
    "from torch.utils.data import DataLoader\n",
    "import torch.nn as nn\n",
    "import torch.optim as optim\n",
    "import config\n",
    "from tqdm import tqdm\n",
    "from torchvision.utils import save_image\n",
    "from discriminator_model import Discriminator\n",
    "from generator_model import Generator\n"
   ]
  },
  {
   "cell_type": "code",
   "execution_count": null,
   "metadata": {
    "id": "__6DMB5gbPSg"
   },
   "outputs": [],
   "source": [
    "def train_fn(\n",
    "    disc_H, disc_Z, gen_Z, gen_H, loader, opt_disc, opt_gen, l1, mse, d_scaler, g_scaler\n",
    "):\n",
    "    H_reals = 0\n",
    "    H_fakes = 0\n",
    "    loop = tqdm(loader, leave=True)\n",
    "\n",
    "    for idx, (pixel, scenery) in enumerate(loop):\n",
    "        pixel = pixel.to(config.DEVICE)\n",
    "        scenery = scenery.to(config.DEVICE)\n",
    "\n",
    "        # Train Discriminators S and P\n",
    "        with torch.cuda.amp.autocast():\n",
    "            fake_scenery = gen_H(pixel)\n",
    "            D_H_real = disc_H(scenery)\n",
    "            D_H_fake = disc_H(fake_scenery.detach())\n",
    "            H_reals += D_H_real.mean().item()\n",
    "            H_fakes += D_H_fake.mean().item()\n",
    "            D_H_real_loss = mse(D_H_real, torch.ones_like(D_H_real))\n",
    "            D_H_fake_loss = mse(D_H_fake, torch.zeros_like(D_H_fake))\n",
    "            D_H_loss = D_H_real_loss + D_H_fake_loss\n",
    "\n",
    "            fake_pixel = gen_Z(scenery)\n",
    "            D_Z_real = disc_Z(pixel)\n",
    "            D_Z_fake = disc_Z(fake_pixel.detach())\n",
    "            D_Z_real_loss = mse(D_Z_real, torch.ones_like(D_Z_real))\n",
    "            D_Z_fake_loss = mse(D_Z_fake, torch.zeros_like(D_Z_fake))\n",
    "            D_Z_loss = D_Z_real_loss + D_Z_fake_loss\n",
    "\n",
    "            # put it togethor\n",
    "            D_loss = (D_H_loss + D_Z_loss) / 2\n",
    "\n",
    "        opt_disc.zero_grad()\n",
    "        d_scaler.scale(D_loss).backward()\n",
    "        d_scaler.step(opt_disc)\n",
    "        d_scaler.update()\n",
    "\n",
    "        # Train Generators S and P\n",
    "        with torch.cuda.amp.autocast():\n",
    "            # adversarial loss for both generators\n",
    "            D_H_fake = disc_H(fake_scenery)\n",
    "            D_Z_fake = disc_Z(fake_pixel)\n",
    "            loss_G_H = mse(D_H_fake, torch.ones_like(D_H_fake))\n",
    "            loss_G_Z = mse(D_Z_fake, torch.ones_like(D_Z_fake))\n",
    "\n",
    "            # cycle loss\n",
    "            cycle_pixel = gen_Z(fake_scenery)\n",
    "            cycle_scenery = gen_H(fake_pixel)\n",
    "            cycle_pixel_loss = l1(pixel, cycle_pixel)\n",
    "            cycle_scenery_loss = l1(scenery, cycle_scenery)\n",
    "\n",
    "            # identity loss (remove these for efficiency if you set lambda_identity=0)\n",
    "            identity_pixel = gen_Z(pixel)\n",
    "            identity_scenery = gen_H(scenery)\n",
    "            identity_pixel_loss = l1(pixel, identity_pixel)\n",
    "            identity_scenery_loss = l1(scenery, identity_scenery)\n",
    "\n",
    "            # add all togethor\n",
    "            G_loss = (\n",
    "                loss_G_Z\n",
    "                + loss_G_H\n",
    "                + cycle_pixel_loss * config.LAMBDA_CYCLE\n",
    "                + cycle_scenery_loss * config.LAMBDA_CYCLE\n",
    "                + identity_scenery_loss * config.LAMBDA_IDENTITY\n",
    "                + identity_pixel_loss * config.LAMBDA_IDENTITY\n",
    "            )\n",
    "\n",
    "        opt_gen.zero_grad()\n",
    "        g_scaler.scale(G_loss).backward()\n",
    "        g_scaler.step(opt_gen)\n",
    "        g_scaler.update()\n",
    "\n",
    "        if idx % 200 == 0:\n",
    "            save_image(fake_scenery * 0.5 + 0.5, f\"saved_images/scenery_{idx}.png\")\n",
    "            save_image(fake_pixel * 0.5 + 0.5, f\"saved_images/pixel_{idx}.png\")\n",
    "\n",
    "        loop.set_postfix(H_real=H_reals / (idx + 1), H_fake=H_fakes / (idx + 1))\n"
   ]
  },
  {
   "cell_type": "code",
   "execution_count": null,
   "metadata": {
    "id": "pfgmcUx2bfDJ"
   },
   "outputs": [],
   "source": [
    "def main():\n",
    "    disc_H = Discriminator(in_channels=3).to(config.DEVICE)\n",
    "    disc_Z = Discriminator(in_channels=3).to(config.DEVICE)\n",
    "    gen_Z = Generator(img_channels=3, num_residuals=9).to(config.DEVICE)\n",
    "    gen_H = Generator(img_channels=3, num_residuals=9).to(config.DEVICE)\n",
    "    opt_disc = optim.Adam(\n",
    "        list(disc_H.parameters()) + list(disc_Z.parameters()),\n",
    "        lr=config.LEARNING_RATE,\n",
    "        betas=(0.5, 0.999),\n",
    "    )\n",
    "\n",
    "    opt_gen = optim.Adam(\n",
    "        list(gen_Z.parameters()) + list(gen_H.parameters()),\n",
    "        lr=config.LEARNING_RATE,\n",
    "        betas=(0.5, 0.999),\n",
    "    )\n",
    "\n",
    "    L1 = nn.L1Loss()\n",
    "    mse = nn.MSELoss()\n",
    "\n",
    "    if config.LOAD_MODEL:\n",
    "        load_checkpoint(\n",
    "            config.CHECKPOINT_GEN_H,\n",
    "            gen_H,\n",
    "            opt_gen,\n",
    "            config.LEARNING_RATE,\n",
    "        )\n",
    "        load_checkpoint(\n",
    "            config.CHECKPOINT_GEN_Z,\n",
    "            gen_Z,\n",
    "            opt_gen,\n",
    "            config.LEARNING_RATE,\n",
    "        )\n",
    "        load_checkpoint(\n",
    "            config.CHECKPOINT_CRITIC_H,\n",
    "            disc_H,\n",
    "            opt_disc,\n",
    "            config.LEARNING_RATE,\n",
    "        )\n",
    "        load_checkpoint(\n",
    "            config.CHECKPOINT_CRITIC_Z,\n",
    "            disc_Z,\n",
    "            opt_disc,\n",
    "            config.LEARNING_RATE,\n",
    "        )\n",
    "\n",
    "    dataset = PixelSceneryDataset(\n",
    "        root_scenery=config.TRAIN_DIR + \"/scenery\",\n",
    "        root_pixel=config.TRAIN_DIR + \"/pixel\",\n",
    "        transform=config.transforms,\n",
    "    )\n",
    "    val_dataset = PixelSceneryDataset(\n",
    "        root_scenery=\"dataset/val/scenery\",\n",
    "        root_pixel=\"dataset/val/pixel\",\n",
    "        transform=config.transforms,\n",
    "    )\n",
    "    val_loader = DataLoader(\n",
    "        val_dataset,\n",
    "        batch_size=1,\n",
    "        shuffle=False,\n",
    "        pin_memory=True,\n",
    "    )\n",
    "    loader = DataLoader(\n",
    "        dataset,\n",
    "        batch_size=config.BATCH_SIZE,\n",
    "        shuffle=True,\n",
    "        num_workers=config.NUM_WORKERS,\n",
    "        pin_memory=True,\n",
    "    )\n",
    "    g_scaler = torch.cuda.amp.GradScaler()\n",
    "    d_scaler = torch.cuda.amp.GradScaler()\n",
    "\n",
    "    for epoch in range(config.NUM_EPOCHS):\n",
    "        train_fn(\n",
    "            disc_H,\n",
    "            disc_Z,\n",
    "            gen_Z,\n",
    "            gen_H,\n",
    "            loader,\n",
    "            opt_disc,\n",
    "            opt_gen,\n",
    "            L1,\n",
    "            mse,\n",
    "            d_scaler,\n",
    "            g_scaler,\n",
    "        )\n",
    "\n",
    "        if config.SAVE_MODEL:\n",
    "            save_checkpoint(gen_H, opt_gen, filename=config.CHECKPOINT_GEN_H)\n",
    "            save_checkpoint(gen_Z, opt_gen, filename=config.CHECKPOINT_GEN_Z)\n",
    "            save_checkpoint(disc_H, opt_disc, filename=config.CHECKPOINT_CRITIC_H)\n",
    "            save_checkpoint(disc_Z, opt_disc, filename=config.CHECKPOINT_CRITIC_Z)"
   ]
  },
  {
   "cell_type": "code",
   "execution_count": null,
   "metadata": {
    "colab": {
     "base_uri": "https://localhost:8080/"
    },
    "id": "jzKABL6FbjPP",
    "outputId": "c5a37599-f106-4c77-e0d6-57273133abfd"
   },
   "outputs": [],
   "source": [
    "if __name__ == \"__main__\":\n",
    "    main()"
   ]
  },
  {
   "cell_type": "code",
   "execution_count": null,
   "metadata": {
    "id": "UfF7KNjYcG7S"
   },
   "outputs": [],
   "source": []
  }
 ],
 "metadata": {
  "accelerator": "GPU",
  "colab": {
   "gpuType": "T4",
   "provenance": []
  },
  "kernelspec": {
   "display_name": "Python 3 (ipykernel)",
   "language": "python",
   "name": "python3"
  },
  "language_info": {
   "codemirror_mode": {
    "name": "ipython",
    "version": 3
   },
   "file_extension": ".py",
   "mimetype": "text/x-python",
   "name": "python",
   "nbconvert_exporter": "python",
   "pygments_lexer": "ipython3",
   "version": "3.11.2"
  }
 },
 "nbformat": 4,
 "nbformat_minor": 1
}
